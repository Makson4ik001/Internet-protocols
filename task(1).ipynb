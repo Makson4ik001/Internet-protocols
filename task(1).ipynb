{
  "metadata": {
    "kernelspec": {
      "name": "python3",
      "display_name": "Python 3"
    },
    "language_info": {
      "name": "python",
      "version": "3.11.11",
      "mimetype": "text/x-python",
      "codemirror_mode": {
        "name": "ipython",
        "version": 3
      },
      "pygments_lexer": "ipython3",
      "nbconvert_exporter": "python",
      "file_extension": ".py"
    },
    "colab": {
      "provenance": [],
      "gpuType": "T4"
    },
    "kaggle": {
      "accelerator": "gpu",
      "dataSources": [
        {
          "sourceId": 11496342,
          "sourceType": "datasetVersion",
          "datasetId": 7206822
        }
      ],
      "dockerImageVersionId": 31012,
      "isInternetEnabled": true,
      "language": "python",
      "sourceType": "notebook",
      "isGpuEnabled": true
    },
    "accelerator": "GPU"
  },
  "nbformat_minor": 0,
  "nbformat": 4,
  "cells": [
    {
      "cell_type": "code",
      "source": [
        "pip install prettytable\n"
      ],
      "metadata": {
        "colab": {
          "base_uri": "https://localhost:8080/"
        },
        "id": "t-yac0jjtJG1",
        "outputId": "fe1fe5b2-880c-4819-9a23-00dbb535d1ed"
      },
      "execution_count": 2,
      "outputs": [
        {
          "output_type": "stream",
          "name": "stdout",
          "text": [
            "Requirement already satisfied: prettytable in /usr/local/lib/python3.11/dist-packages (3.16.0)\n",
            "Requirement already satisfied: wcwidth in /usr/local/lib/python3.11/dist-packages (from prettytable) (0.2.13)\n"
          ]
        }
      ]
    },
    {
      "cell_type": "code",
      "source": [
        "!apt-get update\n",
        "!apt-get install -y traceroute\n"
      ],
      "metadata": {
        "colab": {
          "base_uri": "https://localhost:8080/"
        },
        "id": "BoHvlv3ytfKh",
        "outputId": "93a55be0-569d-47eb-ebd1-193c136bebac"
      },
      "execution_count": 4,
      "outputs": [
        {
          "output_type": "stream",
          "name": "stdout",
          "text": [
            "\r0% [Working]\r            \rGet:1 https://cloud.r-project.org/bin/linux/ubuntu jammy-cran40/ InRelease [3,632 B]\n",
            "\r0% [Waiting for headers] [Waiting for headers] [1 InRelease 3,632 B/3,632 B 100\r0% [Waiting for headers] [Waiting for headers] [Connecting to r2u.stat.illinois\r                                                                               \rGet:2 https://developer.download.nvidia.com/compute/cuda/repos/ubuntu2204/x86_64  InRelease [1,581 B]\n",
            "\r0% [Waiting for headers] [Waiting for headers] [Connected to r2u.stat.illinois.\r0% [Waiting for headers] [Waiting for headers] [Connected to r2u.stat.illinois.\r                                                                               \rHit:3 https://ppa.launchpadcontent.net/deadsnakes/ppa/ubuntu jammy InRelease\n",
            "\r0% [Waiting for headers] [Waiting for headers] [Connected to r2u.stat.illinois.\r                                                                               \rHit:4 http://archive.ubuntu.com/ubuntu jammy InRelease\n",
            "\r                                                                               \rGet:5 http://security.ubuntu.com/ubuntu jammy-security InRelease [129 kB]\n",
            "\r0% [Waiting for headers] [5 InRelease 14.2 kB/129 kB 11%] [Connected to r2u.sta\r                                                                               \rHit:6 https://ppa.launchpadcontent.net/graphics-drivers/ppa/ubuntu jammy InRelease\n",
            "\r0% [Waiting for headers] [5 InRelease 14.2 kB/129 kB 11%] [Connected to r2u.sta\r                                                                               \rGet:7 https://ppa.launchpadcontent.net/ubuntugis/ppa/ubuntu jammy InRelease [24.6 kB]\n",
            "Get:8 http://archive.ubuntu.com/ubuntu jammy-updates InRelease [128 kB]\n",
            "Get:9 https://developer.download.nvidia.com/compute/cuda/repos/ubuntu2204/x86_64  Packages [1,683 kB]\n",
            "Get:10 https://r2u.stat.illinois.edu/ubuntu jammy InRelease [6,555 B]\n",
            "Get:11 http://archive.ubuntu.com/ubuntu jammy-backports InRelease [127 kB]\n",
            "Get:12 https://ppa.launchpadcontent.net/ubuntugis/ppa/ubuntu jammy/main amd64 Packages [77.3 kB]\n",
            "Get:13 http://security.ubuntu.com/ubuntu jammy-security/restricted amd64 Packages [4,363 kB]\n",
            "Get:14 http://archive.ubuntu.com/ubuntu jammy-updates/universe amd64 Packages [1,546 kB]\n",
            "Get:15 https://r2u.stat.illinois.edu/ubuntu jammy/main all Packages [8,946 kB]\n",
            "Get:16 http://security.ubuntu.com/ubuntu jammy-security/main amd64 Packages [2,934 kB]\n",
            "Get:17 http://archive.ubuntu.com/ubuntu jammy-updates/main amd64 Packages [3,245 kB]\n",
            "Get:18 http://archive.ubuntu.com/ubuntu jammy-updates/restricted amd64 Packages [4,517 kB]\n",
            "Get:19 http://archive.ubuntu.com/ubuntu jammy-backports/main amd64 Packages [83.2 kB]\n",
            "Get:20 http://archive.ubuntu.com/ubuntu jammy-backports/universe amd64 Packages [35.2 kB]\n",
            "Get:21 https://r2u.stat.illinois.edu/ubuntu jammy/main amd64 Packages [2,726 kB]\n",
            "Fetched 30.6 MB in 3s (10.3 MB/s)\n",
            "Reading package lists... Done\n",
            "W: Skipping acquire of configured file 'main/source/Sources' as repository 'https://r2u.stat.illinois.edu/ubuntu jammy InRelease' does not seem to provide it (sources.list entry misspelt?)\n",
            "Reading package lists... Done\n",
            "Building dependency tree... Done\n",
            "Reading state information... Done\n",
            "The following NEW packages will be installed:\n",
            "  traceroute\n",
            "0 upgraded, 1 newly installed, 0 to remove and 89 not upgraded.\n",
            "Need to get 45.4 kB of archives.\n",
            "After this operation, 152 kB of additional disk space will be used.\n",
            "Get:1 http://archive.ubuntu.com/ubuntu jammy/universe amd64 traceroute amd64 1:2.1.0-2 [45.4 kB]\n",
            "Fetched 45.4 kB in 0s (135 kB/s)\n",
            "Selecting previously unselected package traceroute.\n",
            "(Reading database ... 126102 files and directories currently installed.)\n",
            "Preparing to unpack .../traceroute_1%3a2.1.0-2_amd64.deb ...\n",
            "Unpacking traceroute (1:2.1.0-2) ...\n",
            "Setting up traceroute (1:2.1.0-2) ...\n",
            "update-alternatives: using /usr/bin/traceroute.db to provide /usr/bin/traceroute (traceroute) in auto mode\n",
            "update-alternatives: using /usr/bin/traceroute6.db to provide /usr/bin/traceroute6 (traceroute6) in auto mode\n",
            "update-alternatives: using /usr/bin/lft.db to provide /usr/bin/lft (lft) in auto mode\n",
            "update-alternatives: using /usr/bin/traceproto.db to provide /usr/bin/traceproto (traceproto) in auto mode\n",
            "update-alternatives: using /usr/sbin/tcptraceroute.db to provide /usr/sbin/tcptraceroute (tcptraceroute) in auto mode\n",
            "Processing triggers for man-db (2.10.2-1) ...\n"
          ]
        }
      ]
    },
    {
      "cell_type": "code",
      "source": [
        "import json\n",
        "import re\n",
        "import subprocess\n",
        "import sys\n",
        "from urllib import request\n",
        "from prettytable import PrettyTable\n",
        "\n",
        "IP_PATTERN = re.compile(r'\\d{1,3}\\.\\d{1,3}\\.\\d{1,3}\\.\\d{1,3}')\n",
        "UNKNOWN_HOST_MSG = 'traceroute: unknown host'\n",
        "TRACEROUTE_HEADER = 'traceroute to'\n",
        "TIMEOUT_LINE = '* * *'\n",
        "\n",
        "\n",
        "def запуск_traceroute(хост):\n",
        "    процесс = subprocess.Popen(['traceroute', хост], stdout=subprocess.PIPE, stderr=subprocess.STDOUT)\n",
        "    return процесс.stdout.readline\n",
        "\n",
        "\n",
        "def получить_инфо_ip(ip_адрес):\n",
        "    url = f'http://ipinfo.io/{ip_адрес}/json'\n",
        "    with request.urlopen(url) as ответ:\n",
        "        return json.load(ответ)\n",
        "\n",
        "\n",
        "def собрать_ip_маршрута(адрес):\n",
        "    ip_маршрут = []\n",
        "    начальный_ip = \"\"\n",
        "    таймаут_счётчик = 0\n",
        "\n",
        "    for строка in iter(запуск_traceroute(адрес), b\"\"):\n",
        "        строка = строка.decode('cp866')[4:]\n",
        "\n",
        "        if UNKNOWN_HOST_MSG in строка:\n",
        "            print(UNKNOWN_HOST_MSG)\n",
        "            return\n",
        "\n",
        "        elif TRACEROUTE_HEADER in строка:\n",
        "            print(строка)\n",
        "            начальный_ip = IP_PATTERN.findall(строка)[0]\n",
        "\n",
        "        elif TIMEOUT_LINE in строка:\n",
        "            if таймаут_счётчик == 2:\n",
        "                break\n",
        "            таймаут_счётчик += 1\n",
        "            continue\n",
        "\n",
        "        найденные_ip = IP_PATTERN.findall(строка)\n",
        "\n",
        "        if not найденные_ip:\n",
        "            return ip_маршрут\n",
        "\n",
        "        текущий_ip = найденные_ip[0]\n",
        "\n",
        "        if текущий_ip == начальный_ip:\n",
        "            break\n",
        "\n",
        "        ip_маршрут.append(текущий_ip)\n",
        "        print(строка, 'ip = [', текущий_ip, ']')\n",
        "        таймаут_счётчик = 0\n",
        "\n",
        "    return ip_маршрут\n",
        "\n",
        "\n",
        "def создать_таблицу(ip_список):\n",
        "    таблица = PrettyTable(['№', 'IP', 'AS', 'Провайдер', 'Страна'])\n",
        "\n",
        "    for номер, ip_ in enumerate(ip_список, start=1):\n",
        "        инфо = получить_инфо_ip(ip_)\n",
        "        print(инфо)\n",
        "\n",
        "        организация = инфо.get('org') or '*'\n",
        "        asn = организация.split()[0] if организация != '*' else '*'\n",
        "        провайдер = ' '.join(организация.split()[1:]) if организация != '*' else '*'\n",
        "        страна = инфо.get('country') or '*'\n",
        "\n",
        "        таблица.add_row([\n",
        "            номер,\n",
        "            инфо.get('ip') or '*',\n",
        "            asn,\n",
        "            провайдер,\n",
        "            страна\n",
        "        ])\n",
        "\n",
        "    return таблица\n",
        "\n",
        "\n",
        "def точка_входа():\n",
        "    адрес = input('Введите доменное имя или IP адрес: ')\n",
        "    ip_список = собрать_ip_маршрута(адрес)\n",
        "    if ip_список:\n",
        "        print(создать_таблицу(ip_список))\n",
        "\n",
        "\n",
        "if __name__ == '__main__':\n",
        "    точка_входа()\n"
      ],
      "metadata": {
        "colab": {
          "base_uri": "https://localhost:8080/"
        },
        "id": "ER1KI59rrKGh",
        "outputId": "957145fc-9b1f-4647-f37d-e3477f860fdb"
      },
      "execution_count": 5,
      "outputs": [
        {
          "output_type": "stream",
          "name": "stdout",
          "text": [
            "Введите доменное имя или IP адрес: 91.109.200.200\n",
            "eroute to 91.109.200.200 (91.109.200.200), 30 hops max, 60 byte packets\n",
            " ip = [ 91.109.200.200 ]\n",
            "172.28.0.1 (172.28.0.1)  0.059 ms  0.012 ms  0.013 ms\n",
            " ip = [ 172.28.0.1 ]\n",
            "172.253.51.75 (172.253.51.75)  42.905 ms  43.254 ms  42.806 ms\n",
            " ip = [ 172.253.51.75 ]\n",
            "192.178.241.180 (192.178.241.180)  41.954 ms 192.178.241.118 (192.178.241.118)  44.874 ms 192.178.241.180 (192.178.241.180)  41.927 ms\n",
            " ip = [ 192.178.241.180 ]\n",
            "msk-ix.atlex.ru (195.208.208.153)  43.098 ms  43.017 ms  43.001 ms\n",
            " ip = [ 195.208.208.153 ]\n",
            "msk-f702.rudc.cloud (91.109.200.200)  44.752 ms !X  44.732 ms !X  44.945 ms !X\n",
            " ip = [ 91.109.200.200 ]\n",
            "{'ip': '91.109.200.200', 'hostname': 'msk-f702.rudc.cloud', 'city': 'Moscow', 'region': 'Moscow', 'country': 'RU', 'loc': '55.7522,37.6156', 'org': 'AS199669 Okay-Telecom Ltd.', 'postal': '101000', 'timezone': 'Europe/Moscow', 'readme': 'https://ipinfo.io/missingauth'}\n",
            "{'ip': '172.28.0.1', 'bogon': True}\n",
            "{'ip': '172.253.51.75', 'city': 'Moscow', 'region': 'Moscow', 'country': 'RU', 'loc': '55.7522,37.6156', 'org': 'AS15169 Google LLC', 'postal': '101000', 'timezone': 'Europe/Moscow', 'readme': 'https://ipinfo.io/missingauth'}\n",
            "{'ip': '192.178.241.180', 'city': 'Moscow', 'region': 'Moscow', 'country': 'RU', 'loc': '55.7522,37.6156', 'org': 'AS15169 Google LLC', 'postal': '101000', 'timezone': 'Europe/Moscow', 'readme': 'https://ipinfo.io/missingauth'}\n",
            "{'ip': '195.208.208.153', 'hostname': 'msk-ix.atlex.ru', 'city': 'Moscow', 'region': 'Moscow', 'country': 'RU', 'loc': '55.7522,37.6156', 'postal': '101000', 'timezone': 'Europe/Moscow', 'readme': 'https://ipinfo.io/missingauth'}\n",
            "{'ip': '91.109.200.200', 'hostname': 'msk-f702.rudc.cloud', 'city': 'Moscow', 'region': 'Moscow', 'country': 'RU', 'loc': '55.7522,37.6156', 'org': 'AS199669 Okay-Telecom Ltd.', 'postal': '101000', 'timezone': 'Europe/Moscow', 'readme': 'https://ipinfo.io/missingauth'}\n",
            "+---+-----------------+----------+-------------------+--------+\n",
            "| № |        IP       |    AS    |     Провайдер     | Страна |\n",
            "+---+-----------------+----------+-------------------+--------+\n",
            "| 1 |  91.109.200.200 | AS199669 | Okay-Telecom Ltd. |   RU   |\n",
            "| 2 |    172.28.0.1   |    *     |         *         |   *    |\n",
            "| 3 |  172.253.51.75  | AS15169  |     Google LLC    |   RU   |\n",
            "| 4 | 192.178.241.180 | AS15169  |     Google LLC    |   RU   |\n",
            "| 5 | 195.208.208.153 |    *     |         *         |   RU   |\n",
            "| 6 |  91.109.200.200 | AS199669 | Okay-Telecom Ltd. |   RU   |\n",
            "+---+-----------------+----------+-------------------+--------+\n"
          ]
        }
      ]
    },
    {
      "cell_type": "markdown",
      "source": [
        "Программа запускает команду traceroute к введённому адресу и считывает список промежуточных IP-адресов, через которые проходят пакеты. Для каждого IP она запрашивает информацию с сервиса ipinfo.io - страну, провайдера и автономную систему (AS). Затем выводит всё это в виде таблицы. Это помогает увидеть маршрут прохождения данных, понять, через какие узлы и сети они идут, и найти возможные проблемы с сетью. Если узел не отвечает или адрес не разрешается, программа сообщает об этом и может прервать трассировку."
      ],
      "metadata": {
        "id": "8O22gs3wuHqw"
      }
    }
  ]
}